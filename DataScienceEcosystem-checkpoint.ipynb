{
 "cells": [
  {
   "cell_type": "markdown",
   "id": "e3466b55-2468-42dc-81d7-3ef1a0b9b56a",
   "metadata": {},
   "source": [
    "# Data Science Tools and Ecosystem"
   ]
  },
  {
   "cell_type": "markdown",
   "id": "4879f6b7-391b-4380-92a5-14d929469a2d",
   "metadata": {},
   "source": [
    "In the notebook, Date Science Tools and Ecosystems are summarized"
   ]
  },
  {
   "cell_type": "markdown",
   "id": "b9f8e91e-a769-430c-a2c8-ef0064baf3ab",
   "metadata": {},
   "source": [
    "**Objectives:**\n",
    "  \n",
    "* Popular languages for data science\n",
    "* Simple arithemtic expressions\n",
    "* Create markdown cells\n",
    "* Data Science Libraries   \n"
   ]
  },
  {
   "cell_type": "markdown",
   "id": "a4ded414-d359-4d87-bdb7-fe926dfe06ad",
   "metadata": {},
   "source": [
    "Some of the most popular languages that data Scientist use are:\n",
    "1. Python\n",
    "2. R\n",
    "3. Julia"
   ]
  },
  {
   "cell_type": "markdown",
   "id": "46239dd1-68c8-4cda-bc54-e62acaa97c59",
   "metadata": {},
   "source": [
    "Some of the commonly used libraries used by Data Scientists include:\n",
    "1. Pandas\n",
    "2. Plotly\n",
    "3. Keras\n",
    "\n"
   ]
  },
  {
   "cell_type": "markdown",
   "id": "f7f4ac88-4fd3-4e94-80ee-c0b1d3944d4d",
   "metadata": {},
   "source": [
    "| Data Science Tools        |\n",
    "|---------------------------|\n",
    "| Jupyter                   |\n",
    "| VS Code               |\n",
    "| RStudio               |\n"
   ]
  },
  {
   "cell_type": "markdown",
   "id": "b3c2f147-ef3c-4a51-9f58-d0850880ef9e",
   "metadata": {},
   "source": [
    "### Below are a few examples of evaluating arithmetic expressions in Python"
   ]
  },
  {
   "cell_type": "markdown",
   "id": "e1d5e9ae-34cf-487d-ad00-61efad009cab",
   "metadata": {},
   "source": [
    "This a simple arithmetic expression to mutiply then add integers"
   ]
  },
  {
   "cell_type": "code",
   "execution_count": 54,
   "id": "adbbd82c-2d73-4781-9a08-6a0f264b217f",
   "metadata": {},
   "outputs": [
    {
     "data": {
      "text/plain": [
       "17"
      ]
     },
     "execution_count": 54,
     "metadata": {},
     "output_type": "execute_result"
    }
   ],
   "source": [
    "(3*4)+5\n"
   ]
  },
  {
   "cell_type": "markdown",
   "id": "7e5bc755-b434-4323-87fd-d5dc65f1fa33",
   "metadata": {},
   "source": [
    " This will convert 200 minutes to hours by diving by 60"
   ]
  },
  {
   "cell_type": "code",
   "execution_count": 59,
   "id": "c2f02a38-f8c1-4fa9-9231-d098b9343758",
   "metadata": {},
   "outputs": [
    {
     "data": {
      "text/plain": [
       "3.3333333333333335"
      ]
     },
     "execution_count": 59,
     "metadata": {},
     "output_type": "execute_result"
    }
   ],
   "source": [
    "(200/60)\n"
   ]
  },
  {
   "cell_type": "markdown",
   "id": "c4d1ff8d-eb97-496c-969d-e268419d11cf",
   "metadata": {},
   "source": [
    "## Author\n",
    "Steven Korowe "
   ]
  }
 ],
 "metadata": {
  "kernelspec": {
   "display_name": "Python [conda env:base] *",
   "language": "python",
   "name": "conda-base-py"
  },
  "language_info": {
   "codemirror_mode": {
    "name": "ipython",
    "version": 3
   },
   "file_extension": ".py",
   "mimetype": "text/x-python",
   "name": "python",
   "nbconvert_exporter": "python",
   "pygments_lexer": "ipython3",
   "version": "3.12.7"
  }
 },
 "nbformat": 4,
 "nbformat_minor": 5
}
